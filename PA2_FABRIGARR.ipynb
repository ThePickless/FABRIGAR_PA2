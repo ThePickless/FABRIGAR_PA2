{
 "cells": [
  {
   "cell_type": "code",
   "execution_count": 4,
   "id": "665f3f19-be4d-4bde-9f0c-1845c0eb641e",
   "metadata": {},
   "outputs": [],
   "source": [
    "#Import the NumPy library for numerical operations\n",
    "import numpy as np"
   ]
  },
  {
   "cell_type": "code",
   "execution_count": 6,
   "id": "2e95c757-d8c6-4b55-a505-075e1a8073ed",
   "metadata": {},
   "outputs": [
    {
     "data": {
      "text/plain": [
       "array([[-1.21427575, -1.40435725, -0.27679826,  0.71170994, -0.04504432],\n",
       "       [-0.82829063,  0.74729882,  0.86832577, -1.07624034,  1.15906257],\n",
       "       [-1.19057099,  0.62504204,  1.7352148 , -0.98394808, -1.31663269],\n",
       "       [-0.1438319 , -0.10545629, -0.8676685 ,  0.05025233, -0.37610666],\n",
       "       [-0.54365974,  0.91728816, -0.14545637,  1.85385897,  1.85028439]])"
      ]
     },
     "execution_count": 6,
     "metadata": {},
     "output_type": "execute_result"
    }
   ],
   "source": [
    "#Generate a 5x5 matrix with random numbers between 0 and 1\n",
    "X = np.random.random((5, 5))\n",
    "#Calculate the mean of the entire matrix\n",
    "X_mean = np.mean(X)\n",
    "#Calculate the standard deviation of the entire matrix\n",
    "X_std = np.std(X)\n",
    "#Normalize the matrix by subtracting the mean and dividing by the standard deviation\n",
    "X_normalized = (X - X_mean) / X_std\n",
    "\n",
    "#Save the normalized matrix to a file named 'X_normalized.npy'\n",
    "np.save('X_normalized.npy', X_normalized)\n",
    "#Load the normalized matrix from the file\n",
    "data = np.load('X_normalized.npy')\n",
    "#Display the loaded matrix (this will show the normalized matrix)\n",
    "data"
   ]
  },
  {
   "cell_type": "code",
   "execution_count": 10,
   "id": "58e6c086-2491-4575-94e4-e6fc5744ae88",
   "metadata": {},
   "outputs": [
    {
     "name": "stdout",
     "output_type": "stream",
     "text": [
      "[   9   36   81  144  225  324  441  576  729  900 1089 1296 1521 1764\n",
      " 2025 2304 2601 2916 3249 3600 3969 4356 4761 5184 5625 6084 6561 7056\n",
      " 7569 8100 8649 9216 9801]\n"
     ]
    }
   ],
   "source": [
    "#Create a 1D array with integers from 1 to 100 (inclusive) using np.arange\n",
    "A = np.array(np.arange(1, 101, 1))\n",
    "\n",
    "#Reshape the 1D array into a 10x10 2D array\n",
    "A.resize(10, 10)\n",
    "\n",
    "#Compute the square of each element in the 10x10 array\n",
    "Squared_A = np.square(A)\n",
    "\n",
    "#Select elements from Squared_A where the corresponding element in A is divisible by 3\n",
    "Div_by_3 = Squared_A[A % 3 == 0]\n",
    "\n",
    "#Save the array of squared values where the original elements were divisible by 3 to a file\n",
    "np.save('div_by_3.npy', Div_by_3)\n",
    "\n",
    "#Load the saved array from the file\n",
    "loaded_data = np.load('div_by_3.npy')\n",
    "\n",
    "#Print the loaded data to the console\n",
    "print(loaded_data)"
   ]
  },
  {
   "cell_type": "code",
   "execution_count": null,
   "id": "11ba1e39-7780-44fc-9e87-dd22eea09fd3",
   "metadata": {},
   "outputs": [],
   "source": []
  }
 ],
 "metadata": {
  "kernelspec": {
   "display_name": "Python 3 (ipykernel)",
   "language": "python",
   "name": "python3"
  },
  "language_info": {
   "codemirror_mode": {
    "name": "ipython",
    "version": 3
   },
   "file_extension": ".py",
   "mimetype": "text/x-python",
   "name": "python",
   "nbconvert_exporter": "python",
   "pygments_lexer": "ipython3",
   "version": "3.12.4"
  }
 },
 "nbformat": 4,
 "nbformat_minor": 5
}
